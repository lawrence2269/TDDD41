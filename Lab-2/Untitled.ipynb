{
 "cells": [
  {
   "cell_type": "code",
   "execution_count": 1,
   "metadata": {},
   "outputs": [],
   "source": [
    "f = open(\"temp.txt\",\"r\")\n",
    "contents = f.read().split(\"\\n\")"
   ]
  },
  {
   "cell_type": "code",
   "execution_count": 2,
   "metadata": {},
   "outputs": [
    {
     "name": "stdout",
     "output_type": "stream",
     "text": [
      "['', 'Scheme:       weka.associations.Apriori -N 1000 -T 0 -C 0.9 -D 0.05 -U 1.0 -M 0.1 -S -1.0 -c -1', 'Relation:     iris-weka.filters.unsupervised.attribute.Discretize-unset-class-temporarily-B6-M-1.0-R1-4-weka.filters.unsupervised.attribute.AddCluster-Wweka.clusterers.SimpleKMeans -N 3 -A \"weka.core.EuclideanDistance -R 1-4\" -I 500 -S 10-I5', 'Instances:    150', 'Attributes:   6', '              sepallength', '              sepalwidth', '              petallength', '              petalwidth']\n"
     ]
    }
   ],
   "source": [
    "print(contents[1:10])"
   ]
  },
  {
   "cell_type": "code",
   "execution_count": 4,
   "metadata": {},
   "outputs": [
    {
     "name": "stdout",
     "output_type": "stream",
     "text": [
      " 75. sepallength='(6.1-6.7]' petallength='(4.933333-5.916667]' 20 ==> cluster=cluster3 20    conf:(1)\n",
      "120. sepallength='(6.1-6.7]' petallength='(4.933333-5.916667]' class=Iris-virginica 19 ==> cluster=cluster3 19    conf:(1)\n",
      "127. sepalwidth='(2.8-3.2]' petallength='(4.933333-5.916667]' 18 ==> cluster=cluster3 18    conf:(1)\n",
      "180. sepalwidth='(2.8-3.2]' petallength='(4.933333-5.916667]' class=Iris-virginica 17 ==> cluster=cluster3 17    conf:(1)\n"
     ]
    }
   ],
   "source": [
    "for x in range(0,len(contents)):\n",
    "    temp = contents[x]\n",
    "    if(\"==> cluster=cluster3\" in contents[x] and \"conf:(1)\" in contents[x]):\n",
    "        print(contents[x])"
   ]
  },
  {
   "cell_type": "code",
   "execution_count": 40,
   "metadata": {},
   "outputs": [
    {
     "data": {
      "text/plain": [
       "True"
      ]
     },
     "execution_count": 40,
     "metadata": {},
     "output_type": "execute_result"
    }
   ],
   "source": [
    "\"cluster3\" in contents[5]"
   ]
  },
  {
   "cell_type": "code",
   "execution_count": null,
   "metadata": {},
   "outputs": [],
   "source": []
  }
 ],
 "metadata": {
  "kernelspec": {
   "display_name": "Python 3",
   "language": "python",
   "name": "python3"
  },
  "language_info": {
   "codemirror_mode": {
    "name": "ipython",
    "version": 3
   },
   "file_extension": ".py",
   "mimetype": "text/x-python",
   "name": "python",
   "nbconvert_exporter": "python",
   "pygments_lexer": "ipython3",
   "version": "3.7.4"
  }
 },
 "nbformat": 4,
 "nbformat_minor": 2
}
