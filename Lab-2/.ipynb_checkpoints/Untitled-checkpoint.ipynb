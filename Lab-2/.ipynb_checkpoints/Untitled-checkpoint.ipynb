{
 "cells": [
  {
   "cell_type": "code",
   "execution_count": 35,
   "metadata": {},
   "outputs": [],
   "source": [
    "f = open(\"temp.txt\",\"r\")\n",
    "contents = f.read().split(\"\\n\")"
   ]
  },
  {
   "cell_type": "code",
   "execution_count": 36,
   "metadata": {},
   "outputs": [
    {
     "name": "stdout",
     "output_type": "stream",
     "text": [
      "[\"  2. petallength='(-inf-2.966667]' 50 ==> petalwidth='(-inf-0.9]' 50    conf:(1)\", \"  3. class=Iris-setosa 50 ==> petallength='(-inf-2.966667]' 50    conf:(1)\", \"  4. petallength='(-inf-2.966667]' 50 ==> class=Iris-setosa 50    conf:(1)\", \"  5. cluster=cluster3 50 ==> petallength='(-inf-2.966667]' 50    conf:(1)\", \"  6. petallength='(-inf-2.966667]' 50 ==> cluster=cluster3 50    conf:(1)\", \"  7. class=Iris-setosa 50 ==> petalwidth='(-inf-0.9]' 50    conf:(1)\", \"  8. petalwidth='(-inf-0.9]' 50 ==> class=Iris-setosa 50    conf:(1)\", \"  9. cluster=cluster3 50 ==> petalwidth='(-inf-0.9]' 50    conf:(1)\", \" 10. petalwidth='(-inf-0.9]' 50 ==> cluster=cluster3 50    conf:(1)\"]\n"
     ]
    }
   ],
   "source": [
    "print(contents[1:10])"
   ]
  },
  {
   "cell_type": "code",
   "execution_count": 44,
   "metadata": {},
   "outputs": [
    {
     "name": "stdout",
     "output_type": "stream",
     "text": [
      " 51. petallength='(2.966667-4.933333]' petalwidth='(0.9-1.7]' 48 ==> cluster=cluster1 48    conf:(1)\n",
      " 90. petallength='(2.966667-4.933333]' petalwidth='(0.9-1.7]' class=Iris-versicolor 47 ==> cluster=cluster1 47    conf:(1)\n",
      "277. sepallength='(5.5-6.7]' petallength='(2.966667-4.933333]' petalwidth='(0.9-1.7]' 33 ==> cluster=cluster1 33    conf:(1)\n",
      "280. sepallength='(5.5-6.7]' petallength='(2.966667-4.933333]' petalwidth='(0.9-1.7]' class=Iris-versicolor 33 ==> cluster=cluster1 33    conf:(1)\n",
      "282. sepalwidth='(-inf-2.8]' petalwidth='(0.9-1.7]' 31 ==> cluster=cluster1 31    conf:(1)\n",
      "283. sepalwidth='(-inf-2.8]' petallength='(2.966667-4.933333]' 30 ==> cluster=cluster1 30    conf:(1)\n",
      "289. sepalwidth='(-inf-2.8]' class=Iris-versicolor 27 ==> cluster=cluster1 27    conf:(1)\n",
      "290. sepalwidth='(-inf-2.8]' petallength='(2.966667-4.933333]' petalwidth='(0.9-1.7]' 27 ==> cluster=cluster1 27    conf:(1)\n",
      "292. sepalwidth='(-inf-2.8]' petalwidth='(0.9-1.7]' class=Iris-versicolor 27 ==> cluster=cluster1 27    conf:(1)\n",
      "297. sepalwidth='(-inf-2.8]' petallength='(2.966667-4.933333]' class=Iris-versicolor 26 ==> cluster=cluster1 26    conf:(1)\n",
      "301. sepalwidth='(-inf-2.8]' petallength='(2.966667-4.933333]' petalwidth='(0.9-1.7]' class=Iris-versicolor 26 ==> cluster=cluster1 26    conf:(1)\n",
      "318. sepalwidth='(2.8-3.6]' petallength='(2.966667-4.933333]' petalwidth='(0.9-1.7]' 21 ==> cluster=cluster1 21    conf:(1)\n",
      "329. sepalwidth='(2.8-3.6]' petallength='(2.966667-4.933333]' petalwidth='(0.9-1.7]' class=Iris-versicolor 21 ==> cluster=cluster1 21    conf:(1)\n",
      "335. sepallength='(5.5-6.7]' sepalwidth='(-inf-2.8]' petalwidth='(0.9-1.7]' 19 ==> cluster=cluster1 19    conf:(1)\n",
      "337. sepallength='(5.5-6.7]' sepalwidth='(-inf-2.8]' petallength='(2.966667-4.933333]' 18 ==> cluster=cluster1 18    conf:(1)\n",
      "345. sepallength='(5.5-6.7]' sepalwidth='(2.8-3.6]' petallength='(2.966667-4.933333]' petalwidth='(0.9-1.7]' 18 ==> cluster=cluster1 18    conf:(1)\n",
      "356. sepallength='(5.5-6.7]' sepalwidth='(2.8-3.6]' petallength='(2.966667-4.933333]' petalwidth='(0.9-1.7]' class=Iris-versicolor 18 ==> cluster=cluster1 18    conf:(1)\n",
      "383. sepallength='(5.5-6.7]' sepalwidth='(-inf-2.8]' class=Iris-versicolor 16 ==> cluster=cluster1 16    conf:(1)\n",
      "395. sepallength='(5.5-6.7]' sepalwidth='(-inf-2.8]' petalwidth='(0.9-1.7]' class=Iris-versicolor 16 ==> cluster=cluster1 16    conf:(1)\n",
      "407. sepallength='(5.5-6.7]' sepalwidth='(-inf-2.8]' petallength='(2.966667-4.933333]' petalwidth='(0.9-1.7]' 15 ==> cluster=cluster1 15    conf:(1)\n",
      "408. sepallength='(5.5-6.7]' sepalwidth='(-inf-2.8]' petallength='(2.966667-4.933333]' class=Iris-versicolor 15 ==> cluster=cluster1 15    conf:(1)\n",
      "415. sepallength='(5.5-6.7]' sepalwidth='(-inf-2.8]' petallength='(2.966667-4.933333]' petalwidth='(0.9-1.7]' class=Iris-versicolor 15 ==> cluster=cluster1 15    conf:(1)\n"
     ]
    }
   ],
   "source": [
    "for x in range(0,len(contents)):\n",
    "    temp = contents[x]\n",
    "    if(\"==> cluster=cluster1\" in contents[x] and \"conf:(1)\" in contents[x]):\n",
    "        print(contents[x])"
   ]
  },
  {
   "cell_type": "code",
   "execution_count": 40,
   "metadata": {},
   "outputs": [
    {
     "data": {
      "text/plain": [
       "True"
      ]
     },
     "execution_count": 40,
     "metadata": {},
     "output_type": "execute_result"
    }
   ],
   "source": [
    "\"cluster3\" in contents[5]"
   ]
  },
  {
   "cell_type": "code",
   "execution_count": null,
   "metadata": {},
   "outputs": [],
   "source": []
  }
 ],
 "metadata": {
  "kernelspec": {
   "display_name": "Python 3",
   "language": "python",
   "name": "python3"
  },
  "language_info": {
   "codemirror_mode": {
    "name": "ipython",
    "version": 3
   },
   "file_extension": ".py",
   "mimetype": "text/x-python",
   "name": "python",
   "nbconvert_exporter": "python",
   "pygments_lexer": "ipython3",
   "version": "3.7.4"
  }
 },
 "nbformat": 4,
 "nbformat_minor": 2
}
